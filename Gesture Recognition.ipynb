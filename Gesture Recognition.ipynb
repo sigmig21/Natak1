{
 "cells": [
  {
   "cell_type": "code",
   "execution_count": 2,
   "id": "f47531ec-b01f-4dab-8b61-af6734900aa7",
   "metadata": {},
   "outputs": [
    {
     "name": "stderr",
     "output_type": "stream",
     "text": [
      "C:\\Users\\Ashish\\anaconda3\\Lib\\site-packages\\keras\\src\\layers\\convolutional\\base_conv.py:99: UserWarning: Do not pass an `input_shape`/`input_dim` argument to a layer. When using Sequential models, prefer using an `Input(shape)` object as the first layer in the model instead.\n",
      "  super().__init__(\n"
     ]
    },
    {
     "name": "stdout",
     "output_type": "stream",
     "text": [
      "Epoch 1/10\n",
      "\u001b[1m578/578\u001b[0m \u001b[32m━━━━━━━━━━━━━━━━━━━━\u001b[0m\u001b[37m\u001b[0m \u001b[1m28s\u001b[0m 46ms/step - accuracy: 0.4199 - loss: 1.2839 - val_accuracy: 0.5393 - val_loss: 1.0502\n",
      "Epoch 2/10\n",
      "\u001b[1m578/578\u001b[0m \u001b[32m━━━━━━━━━━━━━━━━━━━━\u001b[0m\u001b[37m\u001b[0m \u001b[1m26s\u001b[0m 44ms/step - accuracy: 0.5496 - loss: 1.0524 - val_accuracy: 0.5798 - val_loss: 0.9750\n",
      "Epoch 3/10\n",
      "\u001b[1m578/578\u001b[0m \u001b[32m━━━━━━━━━━━━━━━━━━━━\u001b[0m\u001b[37m\u001b[0m \u001b[1m25s\u001b[0m 44ms/step - accuracy: 0.5835 - loss: 0.9772 - val_accuracy: 0.6039 - val_loss: 0.9220\n",
      "Epoch 4/10\n",
      "\u001b[1m578/578\u001b[0m \u001b[32m━━━━━━━━━━━━━━━━━━━━\u001b[0m\u001b[37m\u001b[0m \u001b[1m26s\u001b[0m 45ms/step - accuracy: 0.6156 - loss: 0.9163 - val_accuracy: 0.6043 - val_loss: 0.9226\n",
      "Epoch 5/10\n",
      "\u001b[1m578/578\u001b[0m \u001b[32m━━━━━━━━━━━━━━━━━━━━\u001b[0m\u001b[37m\u001b[0m \u001b[1m26s\u001b[0m 45ms/step - accuracy: 0.6283 - loss: 0.8830 - val_accuracy: 0.6335 - val_loss: 0.8761\n",
      "Epoch 6/10\n",
      "\u001b[1m578/578\u001b[0m \u001b[32m━━━━━━━━━━━━━━━━━━━━\u001b[0m\u001b[37m\u001b[0m \u001b[1m28s\u001b[0m 48ms/step - accuracy: 0.6629 - loss: 0.8157 - val_accuracy: 0.6302 - val_loss: 0.8892\n",
      "Epoch 7/10\n",
      "\u001b[1m578/578\u001b[0m \u001b[32m━━━━━━━━━━━━━━━━━━━━\u001b[0m\u001b[37m\u001b[0m \u001b[1m27s\u001b[0m 46ms/step - accuracy: 0.6751 - loss: 0.7870 - val_accuracy: 0.6491 - val_loss: 0.8400\n",
      "Epoch 8/10\n",
      "\u001b[1m578/578\u001b[0m \u001b[32m━━━━━━━━━━━━━━━━━━━━\u001b[0m\u001b[37m\u001b[0m \u001b[1m26s\u001b[0m 46ms/step - accuracy: 0.6917 - loss: 0.7495 - val_accuracy: 0.6580 - val_loss: 0.8417\n",
      "Epoch 9/10\n",
      "\u001b[1m578/578\u001b[0m \u001b[32m━━━━━━━━━━━━━━━━━━━━\u001b[0m\u001b[37m\u001b[0m \u001b[1m28s\u001b[0m 49ms/step - accuracy: 0.7112 - loss: 0.7056 - val_accuracy: 0.6620 - val_loss: 0.8396\n",
      "Epoch 10/10\n",
      "\u001b[1m578/578\u001b[0m \u001b[32m━━━━━━━━━━━━━━━━━━━━\u001b[0m\u001b[37m\u001b[0m \u001b[1m29s\u001b[0m 49ms/step - accuracy: 0.7342 - loss: 0.6476 - val_accuracy: 0.6687 - val_loss: 0.8369\n",
      "\u001b[1m144/144\u001b[0m \u001b[32m━━━━━━━━━━━━━━━━━━━━\u001b[0m\u001b[37m\u001b[0m \u001b[1m2s\u001b[0m 12ms/step - accuracy: 0.5983 - loss: 0.9441\n",
      "Validation Loss: 0.8368591666221619\n",
      "Validation Accuracy: 0.6686956286430359\n",
      "\u001b[1m1/1\u001b[0m \u001b[32m━━━━━━━━━━━━━━━━━━━━\u001b[0m\u001b[37m\u001b[0m \u001b[1m0s\u001b[0m 77ms/step\n"
     ]
    },
    {
     "data": {
      "image/png": "[encoded data removed]",
      "text/plain": [
       "<Figure size 640x480 with 1 Axes>"
      ]
     },
     "metadata": {},
     "output_type": "display_data"
    }
   ],
   "source": [
    "import numpy as np\n",
    "from tensorflow.keras.utils import to_categorical\n",
    "from tensorflow.keras.models import Sequential\n",
    "from tensorflow.keras.layers import Conv2D, MaxPooling2D, Flatten, Dense, Dropout\n",
    "import matplotlib.pyplot as plt\n",
    "\n",
    "# Load datasets\n",
    "train_images = np.load(r\"D:/TY Practicals/CVDL/gesture_detection-20241122T215627Z-001/gesture_detection/train_validation/train_gesture.npy\")\n",
    "train_labels = np.load(r\"D:/TY Practicals/CVDL/gesture_detection-20241122T215627Z-001/gesture_detection/train_validation/train_gesture_labels.npy\")\n",
    "val_images = np.load(r\"D:/TY Practicals/CVDL/gesture_detection-20241122T215627Z-001/gesture_detection/train_validation/validation_gesture.npy\")\n",
    "val_labels = np.load(r\"D:/TY Practicals/CVDL/gesture_detection-20241122T215627Z-001/gesture_detection/train_validation/validation_gesture_labels.npy\")\n",
    "\n",
    "# Normalize image data to [0, 1]\n",
    "train_images = train_images / 255.0\n",
    "val_images = val_images / 255.0\n",
    "\n",
    "# Ensure images have the correct shape (batch_size, height, width, channels)\n",
    "train_images = np.expand_dims(train_images, axis=-1)  # Add a channel dimension for grayscale\n",
    "val_images = np.expand_dims(val_images, axis=-1)\n",
    "\n",
    "# Get the number of unique classes\n",
    "num_classes = len(np.unique(train_labels))\n",
    "\n",
    "# Convert labels to one-hot encoding\n",
    "train_labels = to_categorical(train_labels, num_classes)\n",
    "val_labels = to_categorical(val_labels, num_classes)\n",
    "\n",
    "# Define a mapping of numeric labels to class names\n",
    "y_vals = {0: 'angry', 1: 'fear', 2: 'happy', 3: 'surprise'}\n",
    "\n",
    "# Build the model\n",
    "model = Sequential([\n",
    "    Conv2D(32, (3, 3), activation='relu', padding=\"same\", input_shape=(train_images.shape[1], train_images.shape[2], 1)),  # Include input shape\n",
    "    MaxPooling2D((2, 2)),\n",
    "    Conv2D(64, (3, 3), activation=\"relu\", padding=\"same\"),\n",
    "    MaxPooling2D((2, 2)),\n",
    "    Flatten(),\n",
    "    Dense(128, activation=\"relu\"),\n",
    "    Dropout(0.5),\n",
    "    Dense(num_classes, activation=\"softmax\")\n",
    "])\n",
    "\n",
    "# Compile the model\n",
    "model.compile(optimizer='adam',\n",
    "              loss='categorical_crossentropy',\n",
    "              metrics=['accuracy'])\n",
    "\n",
    "# Train the model\n",
    "history = model.fit(\n",
    "    train_images, train_labels,\n",
    "    epochs=10,  # Adjust epochs based on dataset size\n",
    "    batch_size=32,  # Adjust batch size based on hardware\n",
    "    validation_data=(val_images, val_labels)\n",
    ")\n",
    "\n",
    "# Evaluate the model\n",
    "val_loss, val_accuracy = model.evaluate(val_images, val_labels)\n",
    "print(f\"Validation Loss: {val_loss}\")\n",
    "print(f\"Validation Accuracy: {val_accuracy}\")\n",
    "\n",
    "# Plot a sample image with true and predicted labels\n",
    "sample_idx = 4  # Choose a sample image index\n",
    "\n",
    "# Get the true and predicted labels\n",
    "true_label_num = np.argmax(val_labels[sample_idx])  # Numeric true label\n",
    "predicted_label_num = np.argmax(model.predict(val_images[sample_idx].reshape(1, val_images.shape[1], val_images.shape[2], 1)))\n",
    "\n",
    "# Map numeric labels to class names\n",
    "true_label = y_vals[true_label_num]\n",
    "predicted_label = y_vals[predicted_label_num]\n",
    "\n",
    "# Plot the image and its true and predicted labels\n",
    "plt.imshow(val_images[sample_idx].reshape(val_images.shape[1], val_images.shape[2]), cmap=\"gray\")\n",
    "plt.title(f\"True: {true_label}, Predicted: {predicted_label}\")\n",
    "plt.show()\n"
   ]
  },
  {
   "cell_type": "code",
   "execution_count": null,
   "id": "9cfd785a-1efa-4fed-9403-322cbb93f945",
   "metadata": {},
   "outputs": [],
   "source": []
  }
 ],
 "metadata": {
  "kernelspec": {
   "display_name": "Python 3 (ipykernel)",
   "language": "python",
   "name": "python3"
  },
  "language_info": {
   "codemirror_mode": {
    "name": "ipython",
    "version": 3
   },
   "file_extension": ".py",
   "mimetype": "text/x-python",
   "name": "python",
   "nbconvert_exporter": "python",
   "pygments_lexer": "ipython3",
   "version": "3.11.7"
  }
 },
 "nbformat": 4,
 "nbformat_minor": 5
}

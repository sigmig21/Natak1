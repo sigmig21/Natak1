{
 "cells": [
  {
   "cell_type": "code",
   "execution_count": 6,
   "id": "612c151f",
   "metadata": {
    "scrolled": true
   },
   "outputs": [
    {
     "name": "stdout",
     "output_type": "stream",
     "text": [
      "\n",
      "Training CNN Model:\n",
      "Epoch 1/5\n",
      "\u001b[1m1875/1875\u001b[0m \u001b[32m━━━━━━━━━━━━━━━━━━━━\u001b[0m\u001b[37m\u001b[0m \u001b[1m35s\u001b[0m 16ms/step - accuracy: 0.5934 - loss: 1.6331\n",
      "Epoch 2/5\n",
      "\u001b[1m1875/1875\u001b[0m \u001b[32m━━━━━━━━━━━━━━━━━━━━\u001b[0m\u001b[37m\u001b[0m \u001b[1m32s\u001b[0m 17ms/step - accuracy: 0.9505 - loss: 0.1583\n",
      "Epoch 3/5\n",
      "\u001b[1m1875/1875\u001b[0m \u001b[32m━━━━━━━━━━━━━━━━━━━━\u001b[0m\u001b[37m\u001b[0m \u001b[1m33s\u001b[0m 18ms/step - accuracy: 0.9729 - loss: 0.0872\n",
      "Epoch 4/5\n",
      "\u001b[1m1875/1875\u001b[0m \u001b[32m━━━━━━━━━━━━━━━━━━━━\u001b[0m\u001b[37m\u001b[0m \u001b[1m32s\u001b[0m 17ms/step - accuracy: 0.9801 - loss: 0.0614\n",
      "Epoch 5/5\n",
      "\u001b[1m1875/1875\u001b[0m \u001b[32m━━━━━━━━━━━━━━━━━━━━\u001b[0m\u001b[37m\u001b[0m \u001b[1m32s\u001b[0m 17ms/step - accuracy: 0.9861 - loss: 0.0411\n",
      "313/313 - 3s - 8ms/step - accuracy: 0.9678 - loss: 0.1125\n",
      "Test accuracy: 0.9678000211715698\n"
     ]
    },
    {
     "data": {
      "image/png": "[encoded data removed]",
      "text/plain": [
       "<Figure size 500x500 with 1 Axes>"
      ]
     },
     "metadata": {},
     "output_type": "display_data"
    }
   ],
   "source": [
    "import tensorflow as tf\n",
    "from tensorflow import keras\n",
    "import matplotlib.pyplot as plt\n",
    "import numpy as np\n",
    "\n",
    "# Load MNIST dataset from file\n",
    "def load_mnist_data(file_path):\n",
    "    with np.load(file_path) as dataset:\n",
    "        X_train = dataset[\"train_images\"]\n",
    "        y_train = dataset[\"train_labels\"]\n",
    "        X_test = dataset[\"test_images\"]\n",
    "        y_test = dataset[\"test_labels\"]\n",
    "    return X_train, y_train, X_test, y_test\n",
    "\n",
    "# Normalize the data\n",
    "def normalize_data(X_train, X_test):\n",
    "    X_train = X_train / 255.0\n",
    "    X_test = X_test / 255.0\n",
    "    return X_train, X_test\n",
    "\n",
    "def create_cnn_model():\n",
    "    cnn = keras.models.Sequential([\n",
    "        keras.layers.Conv2D(filters=32, kernel_size=(3, 3), activation='relu', input_shape=(28, 56, 1)),\n",
    "        keras.layers.MaxPooling2D((2, 2)),\n",
    "        keras.layers.Conv2D(filters=64, kernel_size=(3, 3), activation='relu'),\n",
    "        keras.layers.MaxPooling2D((2, 2)),\n",
    "        keras.layers.Flatten(),\n",
    "        keras.layers.Dense(64, activation='relu'),\n",
    "        keras.layers.Dense(100, activation='softmax')\n",
    "    ])\n",
    "    cnn.compile(optimizer='adam',\n",
    "                loss='sparse_categorical_crossentropy',\n",
    "                metrics=['accuracy'])\n",
    "    return cnn\n",
    "\n",
    "def plot_sample(X, y, index):\n",
    "    plt.figure(figsize=(5, 5))\n",
    "    plt.imshow(X[index].squeeze(), cmap='gray')\n",
    "    plt.xlabel(f\"Label: {y[index]}\")\n",
    "    plt.show()\n",
    "\n",
    "def evaluate_model(model, X_test, y_test):\n",
    "    test_loss, test_acc = model.evaluate(X_test, y_test, verbose=2)\n",
    "    print('Test accuracy:', test_acc)\n",
    "\n",
    "file_path = r\"C:\\Users\\Laptop\\Desktop\\CV\\Pothole detection\\Image classification\\mnist_compressed.npz\"\n",
    "X_train, y_train, X_test, y_test = load_mnist_data(file_path)\n",
    "\n",
    "\n",
    "# Normalize data\n",
    "X_train, X_test = normalize_data(X_train, X_test)\n",
    "\n",
    "# Reshape for CNN\n",
    "X_train_cnn = X_train.reshape(-1, 28, 56, 1)\n",
    "X_test_cnn = X_test.reshape(-1, 28, 56, 1)\n",
    "\n",
    "print(\"\\nTraining CNN Model:\")\n",
    "cnn = create_cnn_model()\n",
    "cnn.fit(X_train_cnn, y_train, epochs=5)\n",
    "\n",
    "# Evaluate the model\n",
    "evaluate_model(cnn, X_test_cnn, y_test)\n",
    "\n",
    "# Plot a sample image\n",
    "plot_sample(X_test, y_test, 0)\n"
   ]
  },
  {
   "cell_type": "code",
   "execution_count": 7,
   "id": "e2dd2d1c",
   "metadata": {},
   "outputs": [
    {
     "data": {
      "image/png": "[encoded data removed]",
      "text/plain": [
       "<Figure size 500x500 with 1 Axes>"
      ]
     },
     "metadata": {},
     "output_type": "display_data"
    }
   ],
   "source": [
    "plot_sample(X_test, y_test, 4)"
   ]
  },
  {
   "cell_type": "code",
   "execution_count": null,
   "id": "505979be",
   "metadata": {},
   "outputs": [],
   "source": [
    "# tensorflow: A deep learning library used to define, train, and deploy machine learning models.\n",
    "# keras: A high-level neural network API that is part of TensorFlow, used for building and training models.\n",
    "# matplotlib.pyplot: A library used for plotting data, here used to visualize images.\n",
    "# numpy: A numerical computation library, used to handle arrays and datasets.\n",
    "\n",
    "\n",
    "# The .npz format is a compressed file format provided by NumPy to store multiple arrays in a single file. \n",
    "# It is essentially a zipped container for .npy files (NumPy arrays). \n",
    "# The .npz file is used to efficiently save and load data, especially when working with datasets in machine learning and deep learning projects.\n",
    "# Each array in the .npz file is stored under a unique key, and you can access these arrays using the key names.\n",
    "\n",
    "# Loading MNIST Dataset:    \n",
    "# np.load(file_path): Loads the dataset stored in .npz file format. The file contains arrays for training and testing images and labels.\n",
    "# X_train, y_train, X_test, y_test: These variables store the training and testing data:\n",
    "# X_train and X_test are arrays of images.\n",
    "# y_train and y_test are arrays of labels (digits 0-9).\n",
    "\n",
    "\n",
    "# Normalizing Data:\n",
    "# Image pixel values range from 0 to 255. This step scales the images to a range of [0, 1] by dividing by 255.0, which helps the model converge faster during training.\n",
    "\n",
    "# Creating the CNN Model:\n",
    "# Conv2D layer: Convolutional layer that detects features in the image using filters. The first layer has 32 filters of size 3x3, and the second layer has 64 filters.\n",
    "# Activation Function relu: The rectified linear unit function introduces non-linearity to the model, allowing it to learn complex patterns.\n",
    "# MaxPooling2D layer: Reduces the spatial dimensions of the image, making it more computationally efficient while retaining important features.\n",
    "# Flatten layer: Converts the 2D feature maps into a 1D vector to feed into the fully connected layers.\n",
    "# Dense layers: Fully connected layers where the final layer has 100 units with softmax activation for multi-class classification (MNIST has 10 digits, but this example seems to use 100 classes).   \n",
    "\n",
    "    \n",
    "# Plotting a Sample Image:\n",
    "# plt.imshow(X[index].squeeze(), cmap='gray'): Displays an image from the dataset using imshow and converts it to grayscale.\n",
    "# squeeze(): Removes any extra dimensions (in this case, the singleton dimension of 1 for grayscale).\n",
    "# plt.xlabel: Adds the label of the image on the x-axis.\n",
    "    \n",
    "    \n",
    "# Evaluating the Model:\n",
    "# model.evaluate(X_test, y_test): Evaluates the trained model on the test set to measure its performance.\n",
    "# test_loss: The loss (error) of the model on the test set.\n",
    "# test_acc: The accuracy of the model on the test set.\n",
    "    \n",
    "    \n",
    "# Main Execution Block:\n",
    "# load_mnist_data(file_path): Loads the MNIST dataset.\n",
    "# normalize_data(X_train, X_test): Normalizes the training and test datasets.\n",
    "# reshape(): Reshapes the data to include a single channel (grayscale) for each image. The images are 28x28 pixels, but the model is expecting a 28x56 shape, which seems like a mistake. Correcting this would require fixing the input shape to (28, 28, 1) instead of (28, 56, 1).\n",
    "# cnn.fit(): Trains the CNN model on the training data for 5 epochs.\n",
    "# evaluate_model(): Evaluates the trained model on the test set.\n",
    "# plot_sample(): Displays one of the test images.\n",
    "\n",
    "    \n",
    "    \n",
    "# Convolutional Neural Networks (CNNs) are specifically designed for processing structured grid data, such as images.\n",
    "\n",
    "# Convolution Layer: It applies filters (kernels) to the image to extract features like edges, corners, and textures. The filters slide over the image and calculate convolutions, generating feature maps.\n",
    "# Activation Layer (ReLU): After convolution, an activation function like ReLU is applied to introduce non-linearity to the model. Without non-linearity, the network would behave like a linear model and wouldn't capture complex patterns.\n",
    "# Pooling Layer: Pooling (typically max pooling) reduces the spatial dimensions of the image, keeping only the most significant features and reducing computational complexity.\n",
    "# Flattening Layer: After several convolution and pooling layers, the 2D feature maps are flattened into a 1D vector to connect with fully connected layers (Dense layers).\n",
    "# Fully Connected (Dense) Layers: These layers are used to make final predictions. The last dense layer uses the softmax activation function to predict the class probabilities.\n",
    "    \n",
    "    \n",
    "\n",
    "# Q1: Why do we use convolution layers in CNNs?\n",
    "# A1: Convolution layers are used to detect local patterns such as edges, corners, and textures in the image. By using multiple filters, a CNN can automatically learn hierarchical features that are useful for classification.\n",
    "\n",
    "# Q2: What is the purpose of pooling layers in CNNs?\n",
    "# A2: Pooling layers reduce the spatial dimensions of the image, which helps in reducing computational costs while retaining important features. Max pooling, for example, picks the maximum value from each patch of the image.\n",
    "\n",
    "# Q3: Why do we normalize the image data?\n",
    "# A3: Normalization scales the pixel values of the images to a range between 0 and 1. This makes it easier for the model to learn, as large input values can lead to slower convergence during training.\n",
    "\n",
    "# Q4: What is the difference between a Conv2D layer and a Dense layer?\n",
    "# A4: A Conv2D layer is used for convolution operations on image data to extract features, while a Dense layer is a fully connected layer where each neuron is connected to all neurons in the previous layer. The Conv2D layer is designed for image data, while Dense layers are typically used at the final stages of the model for classification.\n",
    "\n",
    "# Q5: What is the purpose of the softmax activation function in the final layer?\n",
    "# A5: The softmax activation function is used in multi-class classification problems. It converts the raw output scores of the model into probabilities, with the sum of the probabilities equal to 1. The class with the highest probability is chosen as the predicted label.\n",
    "\n",
    "."
   ]
  }
 ],
 "metadata": {
  "kernelspec": {
   "display_name": "Python 3 (ipykernel)",
   "language": "python",
   "name": "python3"
  },
  "language_info": {
   "codemirror_mode": {
    "name": "ipython",
    "version": 3
   },
   "file_extension": ".py",
   "mimetype": "text/x-python",
   "name": "python",
   "nbconvert_exporter": "python",
   "pygments_lexer": "ipython3",
   "version": "3.11.5"
  }
 },
 "nbformat": 4,
 "nbformat_minor": 5
}
